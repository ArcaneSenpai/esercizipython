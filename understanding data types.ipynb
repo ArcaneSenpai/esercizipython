{
 "cells": [
  {
   "cell_type": "code",
   "execution_count": 8,
   "id": "f6f35c26",
   "metadata": {},
   "outputs": [
    {
     "name": "stdout",
     "output_type": "stream",
     "text": [
      "Integer: 10\n",
      "Float: 1.0\n",
      "String: Hello, World!\n",
      "Boolean: True\n"
     ]
    }
   ],
   "source": [
    "my_integer = 10\n",
    "my_float = 1.0\n",
    "my_string = \"Hello, World!\"\n",
    "my_boolean = True\n",
    "\n",
    "print(f\"Integer: {my_integer}\")\n",
    "print(f\"Float: {my_float}\")\n",
    "print(f\"String: {my_string}\")\n",
    "print(f\"Boolean: {my_boolean}\")\n"
   ]
  },
  {
   "cell_type": "markdown",
   "id": "74c07c95",
   "metadata": {},
   "source": [
    "# Create variables of different data types (integer, float, string, and boolean)\n",
    "# Use the type function to print the type of each variable\n",
    "# Observe how the data type affects the output of certain operations, for example: • Adding two integers • Concatenating a string with a float • Comparing a string with a boolean"
   ]
  },
  {
   "cell_type": "code",
   "execution_count": 10,
   "id": "f6489193",
   "metadata": {},
   "outputs": [
    {
     "name": "stdout",
     "output_type": "stream",
     "text": [
      "<class 'int'>\n",
      "<class 'str'>\n",
      "<class 'float'>\n"
     ]
    }
   ],
   "source": [
    "x = 10\n",
    "y = \"Alessio\"\n",
    "z = 1.0\n",
    "\n",
    "print(type(x))\n",
    "print(type(y))\n",
    "print(type(z))\n"
   ]
  },
  {
   "cell_type": "code",
   "execution_count": 13,
   "id": "25ceb64e",
   "metadata": {},
   "outputs": [
    {
     "name": "stdout",
     "output_type": "stream",
     "text": [
      "11\n",
      "Hello1.0\n",
      "False\n"
     ]
    }
   ],
   "source": [
    "x = 8\n",
    "y = 3\n",
    "print(x + y) \n",
    "\n",
    "a = \"Hello\"\n",
    "b = 1.0\n",
    "print(a + str(b)) \n",
    "\n",
    "c = \"Alessio\"\n",
    "d = True\n",
    "print(c == d)\n"
   ]
  }
 ],
 "metadata": {
  "kernelspec": {
   "display_name": "Python 3 (ipykernel)",
   "language": "python",
   "name": "python3"
  },
  "language_info": {
   "codemirror_mode": {
    "name": "ipython",
    "version": 3
   },
   "file_extension": ".py",
   "mimetype": "text/x-python",
   "name": "python",
   "nbconvert_exporter": "python",
   "pygments_lexer": "ipython3",
   "version": "3.11.4"
  }
 },
 "nbformat": 4,
 "nbformat_minor": 5
}
