{
 "cells": [
  {
   "cell_type": "markdown",
   "id": "6003ebff",
   "metadata": {},
   "source": [
    "# Esercizio 4 Variable "
   ]
  },
  {
   "cell_type": "markdown",
   "id": "c2a1c491",
   "metadata": {},
   "source": [
    "Using input() to ask the user for their name, age, and city of residence.\n",
    "Using variables to store the user's input and display a sentence about the user.\n",
    "Implementing the upper() and lower() methods to change the case of the variables.\n",
    "Using the len() function to find the length of each string and display it.\n",
    "Create two variables \"first_name\" and \"last_name\" and combine them to form a full name string.\n",
    "Create a variable \"fav_language\" and assign a string value to it. Then, create a sentence that states your favorite programming language.\n",
    "Create a variable \"current_year\" and assign the current year as an integer value. Then, create another variable \"birth_year\" and assign a year of birth as an integer value. Calculate and print the age of the person.\n",
    "Create a variable \"sentence\" and assign a string value to it. Print the number of characters in the sentence."
   ]
  },
  {
   "cell_type": "code",
   "execution_count": null,
   "id": "cd3a83e5",
   "metadata": {},
   "outputs": [],
   "source": [
    "first_name = input(\"What is your first name? \")\n",
    "last_name = input(\"What is your last name? \")\n",
    "age = input(\"How old are you? \")\n",
    "city = input(\"Where do you live? \")\n"
   ]
  },
  {
   "cell_type": "code",
   "execution_count": null,
   "id": "3fd5645b",
   "metadata": {},
   "outputs": [],
   "source": [
    "print(f\"Your name is {first_name.upper()} {last_name.upper()}. You are {age} years old and live in {city.lower()}.\")\n",
    "\n"
   ]
  },
  {
   "cell_type": "code",
   "execution_count": null,
   "id": "38b1354e",
   "metadata": {},
   "outputs": [],
   "source": [
    "print(f\"Your first name has {len(first_name)} characters, your last name has {len(last_name)} characters, and your city has {len(city)} characters.\")\n"
   ]
  },
  {
   "cell_type": "code",
   "execution_count": null,
   "id": "3d27990f",
   "metadata": {},
   "outputs": [],
   "source": [
    "full_name = first_name + \" \" + last_name\n",
    "fav_language = \"Python\"\n",
    "print(f\"My full name is {full_name} and my favorite programming language is {fav_language}.\")"
   ]
  },
  {
   "cell_type": "code",
   "execution_count": null,
   "id": "45e8901f",
   "metadata": {},
   "outputs": [],
   "source": [
    "current_year = 2023\n",
    "birth_year = int(input(\"What year were you born? \"))\n",
    "age = current_year - birth_year\n",
    "print(f\"You are {age} years old.\")"
   ]
  },
  {
   "cell_type": "code",
   "execution_count": null,
   "id": "32292bd8",
   "metadata": {},
   "outputs": [],
   "source": [
    "sentence = \"This is a sentence.\"\n",
    "print(f\"The sentence '{sentence}' has {len(sentence)} characters.\")"
   ]
  }
 ],
 "metadata": {
  "kernelspec": {
   "display_name": "Python 3 (ipykernel)",
   "language": "python",
   "name": "python3"
  },
  "language_info": {
   "codemirror_mode": {
    "name": "ipython",
    "version": 3
   },
   "file_extension": ".py",
   "mimetype": "text/x-python",
   "name": "python",
   "nbconvert_exporter": "python",
   "pygments_lexer": "ipython3",
   "version": "3.11.4"
  }
 },
 "nbformat": 4,
 "nbformat_minor": 5
}
