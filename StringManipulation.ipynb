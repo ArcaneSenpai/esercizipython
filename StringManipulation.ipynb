{
 "cells": [
  {
   "cell_type": "code",
   "execution_count": 19,
   "id": "48a67276",
   "metadata": {},
   "outputs": [
    {
     "name": "stdout",
     "output_type": "stream",
     "text": [
      "First character: b\n",
      "Last character: d\n",
      "Middle part: middle\n",
      "New string: bd\n",
      "Length of string: 18\n"
     ]
    }
   ],
   "source": [
    "my_string = \"beginningmiddleend\"\n",
    "first_char = my_string[0]\n",
    "last_char = my_string[-1]\n",
    "middle_part = my_string[9:15]\n",
    "new_string = first_char + last_char\n",
    "string_length = len(my_string)\n",
    "\n",
    "print(\"First character:\", first_char)\n",
    "print(\"Last character:\", last_char)\n",
    "print(\"Middle part:\", middle_part)\n",
    "print(\"New string:\", new_string)\n",
    "print(\"Length of string:\", string_length)\n"
   ]
  }
 ],
 "metadata": {
  "kernelspec": {
   "display_name": "Python 3 (ipykernel)",
   "language": "python",
   "name": "python3"
  },
  "language_info": {
   "codemirror_mode": {
    "name": "ipython",
    "version": 3
   },
   "file_extension": ".py",
   "mimetype": "text/x-python",
   "name": "python",
   "nbconvert_exporter": "python",
   "pygments_lexer": "ipython3",
   "version": "3.11.4"
  }
 },
 "nbformat": 4,
 "nbformat_minor": 5
}
