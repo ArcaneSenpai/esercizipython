{
 "cells": [
  {
   "cell_type": "code",
   "execution_count": 11,
   "id": "e82ffa00",
   "metadata": {},
   "outputs": [
    {
     "name": "stdout",
     "output_type": "stream",
     "text": [
      "7\n"
     ]
    }
   ],
   "source": [
    "a = 3 \n",
    "b = 4\n",
    "print(a + b)"
   ]
  },
  {
   "cell_type": "markdown",
   "id": "1ba50c07",
   "metadata": {},
   "source": [
    "# Given two variables a = 3 and b = 4, calculate and print the sum of a and b.\n",
    "# Given two variables x = 7 and y = 2, calculate and print the difference of x and y.\n",
    "# Given two variables p = 5 and q = 3, calculate and print the product of p and q.\n",
    "# Given two variables m = 8 and n = 2, calculate and print the quotient of m divided by n and the remainder of m divided by n."
   ]
  },
  {
   "cell_type": "code",
   "execution_count": 12,
   "id": "b5beb495",
   "metadata": {},
   "outputs": [
    {
     "name": "stdout",
     "output_type": "stream",
     "text": [
      "5\n"
     ]
    }
   ],
   "source": [
    "x = 7\n",
    "y = 2\n",
    "print(x - y)"
   ]
  },
  {
   "cell_type": "code",
   "execution_count": 13,
   "id": "8bdc9e1c",
   "metadata": {},
   "outputs": [
    {
     "name": "stdout",
     "output_type": "stream",
     "text": [
      "15\n"
     ]
    }
   ],
   "source": [
    "p = 5\n",
    "q = 3\n",
    "print(p * q)"
   ]
  },
  {
   "cell_type": "code",
   "execution_count": 1,
   "id": "1b297932",
   "metadata": {},
   "outputs": [
    {
     "name": "stdout",
     "output_type": "stream",
     "text": [
      "4.0\n",
      "0\n"
     ]
    }
   ],
   "source": [
    "m = 8\n",
    "n = 2 \n",
    "print(m / n)\n",
    "print(m % n)"
   ]
  }
 ],
 "metadata": {
  "kernelspec": {
   "display_name": "Python 3 (ipykernel)",
   "language": "python",
   "name": "python3"
  },
  "language_info": {
   "codemirror_mode": {
    "name": "ipython",
    "version": 3
   },
   "file_extension": ".py",
   "mimetype": "text/x-python",
   "name": "python",
   "nbconvert_exporter": "python",
   "pygments_lexer": "ipython3",
   "version": "3.11.4"
  }
 },
 "nbformat": 4,
 "nbformat_minor": 5
}
