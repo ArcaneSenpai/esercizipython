{
 "cells": [
  {
   "cell_type": "code",
   "execution_count": 19,
   "id": "c699ae0d",
   "metadata": {},
   "outputs": [
    {
     "name": "stdout",
     "output_type": "stream",
     "text": [
      "1.3333333333333333\n"
     ]
    }
   ],
   "source": [
    "a = 3\n",
    "b = 4\n",
    "print(b/a)"
   ]
  },
  {
   "cell_type": "markdown",
   "id": "51f14f6a",
   "metadata": {},
   "source": [
    "# Given two variables a = 3 and b = 4, calculate the integer of dividing b/a.\n",
    "# Given two variables a = 3 and b = 4, calculate the reminder of and integer from dividing b/a.\n",
    "# Given a list numbers = [3, 5, 7, 9, 11], calculate and print the sum of all elements in the list.\n",
    "# Given a list grades = [83, 85, 72, 63, 95], calculate and print the average grade.\n",
    "# Given a list prices = [5, 10, 15, 20, 25], calculate and print the highest and lowest price."
   ]
  },
  {
   "cell_type": "code",
   "execution_count": 20,
   "id": "f89f4301",
   "metadata": {},
   "outputs": [
    {
     "name": "stdout",
     "output_type": "stream",
     "text": [
      "1\n"
     ]
    }
   ],
   "source": [
    "a = 3 \n",
    "b = 4\n",
    "print(b//a)"
   ]
  },
  {
   "cell_type": "code",
   "execution_count": 23,
   "id": "31c8f5f0",
   "metadata": {},
   "outputs": [
    {
     "name": "stdout",
     "output_type": "stream",
     "text": [
      "35\n"
     ]
    }
   ],
   "source": [
    "numbers = [3, 5, 7, 9, 11]\n",
    "result = sum(numbers)\n",
    "print(result)\n"
   ]
  },
  {
   "cell_type": "code",
   "execution_count": 26,
   "id": "15ef600f",
   "metadata": {},
   "outputs": [
    {
     "name": "stdout",
     "output_type": "stream",
     "text": [
      "79.6\n"
     ]
    }
   ],
   "source": [
    "numbers = [83, 85, 72, 63, 95]\n",
    "avg = sum(numbers) / len(numbers)\n",
    "print(avg)\n"
   ]
  },
  {
   "cell_type": "code",
   "execution_count": 28,
   "id": "501482e8",
   "metadata": {},
   "outputs": [
    {
     "name": "stdout",
     "output_type": "stream",
     "text": [
      "Il prezzo più alto è: 25\n",
      "Il prezzo più basso è: 5\n"
     ]
    }
   ],
   "source": [
    "numbers = [5, 10, 15, 20, 25]\n",
    "prezzopiùalto = max(numbers)\n",
    "prezzopiùbasso = min(numbers)\n",
    "print(f'Il prezzo più alto è: {prezzopiùalto}')\n",
    "print(f'Il prezzo più basso è: {prezzopiùbasso}')\n"
   ]
  }
 ],
 "metadata": {
  "kernelspec": {
   "display_name": "Python 3 (ipykernel)",
   "language": "python",
   "name": "python3"
  },
  "language_info": {
   "codemirror_mode": {
    "name": "ipython",
    "version": 3
   },
   "file_extension": ".py",
   "mimetype": "text/x-python",
   "name": "python",
   "nbconvert_exporter": "python",
   "pygments_lexer": "ipython3",
   "version": "3.11.4"
  }
 },
 "nbformat": 4,
 "nbformat_minor": 5
}
