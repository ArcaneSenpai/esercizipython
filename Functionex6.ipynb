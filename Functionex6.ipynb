{
 "cells": [
  {
   "cell_type": "markdown",
   "id": "9f9a3fbc",
   "metadata": {},
   "source": [
    "# Exercise - Functions 6"
   ]
  },
  {
   "cell_type": "markdown",
   "id": "5b8866fa",
   "metadata": {},
   "source": [
    "### Implement Fibonacci sequence as recursive function and print first 5 elements.\n",
    "\n",
    "use list comprehension while creating the list minimum element is 0 in this series"
   ]
  },
  {
   "cell_type": "code",
   "execution_count": 13,
   "id": "6b691294",
   "metadata": {},
   "outputs": [
    {
     "name": "stdout",
     "output_type": "stream",
     "text": [
      "[0, 0, 0, 0, 0]\n"
     ]
    }
   ],
   "source": [
    "def fibonacci(n):\n",
    "    if n <= 0:\n",
    "        return 0\n",
    "    else:\n",
    "        return fibonacci(n-1) + fibonacci(n-2)\n",
    "\n",
    "fibonacci_sequence = [fibonacci(i) for i in range(5)]\n",
    "print(fibonacci_sequence)"
   ]
  }
 ],
 "metadata": {
  "kernelspec": {
   "display_name": "Python 3 (ipykernel)",
   "language": "python",
   "name": "python3"
  },
  "language_info": {
   "codemirror_mode": {
    "name": "ipython",
    "version": 3
   },
   "file_extension": ".py",
   "mimetype": "text/x-python",
   "name": "python",
   "nbconvert_exporter": "python",
   "pygments_lexer": "ipython3",
   "version": "3.11.4"
  }
 },
 "nbformat": 4,
 "nbformat_minor": 5
}
