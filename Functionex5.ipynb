{
 "cells": [
  {
   "cell_type": "markdown",
   "id": "969e035b",
   "metadata": {},
   "source": [
    " # Ecercise - Function 5"
   ]
  },
  {
   "cell_type": "markdown",
   "id": "b1010fdc",
   "metadata": {},
   "source": [
    "### Import random function\n",
    "Create a function random_list_summer creates n elemented list with min value = -100 max value = 100 it has to print the list first and sum all the elements of it default element number is 15\n",
    "Don't forget to call the function\n",
    "for some features and functions you might have to search on the internet do it don't lose your courage"
   ]
  },
  {
   "cell_type": "code",
   "execution_count": 1,
   "id": "178b54c7",
   "metadata": {},
   "outputs": [
    {
     "name": "stdout",
     "output_type": "stream",
     "text": [
      "[-24, 15, -18, -94, -93, 40, -26, 94, -76, -24, -79, 16, -30, 92, -42]\n",
      "-249\n"
     ]
    }
   ],
   "source": [
    "import random\n",
    "\n",
    "def random_list_summer(n=15):\n",
    "    lst = [random.randint(-100, 100) for _ in range(n)]\n",
    "    print(lst)\n",
    "    print(sum(lst))\n",
    "\n",
    "random_list_summer()"
   ]
  }
 ],
 "metadata": {
  "kernelspec": {
   "display_name": "Python 3 (ipykernel)",
   "language": "python",
   "name": "python3"
  },
  "language_info": {
   "codemirror_mode": {
    "name": "ipython",
    "version": 3
   },
   "file_extension": ".py",
   "mimetype": "text/x-python",
   "name": "python",
   "nbconvert_exporter": "python",
   "pygments_lexer": "ipython3",
   "version": "3.11.4"
  }
 },
 "nbformat": 4,
 "nbformat_minor": 5
}
