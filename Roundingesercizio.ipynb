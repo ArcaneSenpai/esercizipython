{
 "cells": [
  {
   "cell_type": "code",
   "execution_count": 18,
   "id": "b0924fb5",
   "metadata": {},
   "outputs": [
    {
     "name": "stdout",
     "output_type": "stream",
     "text": [
      "Original: 5.34267\n",
      "Rounded: 5.34\n"
     ]
    }
   ],
   "source": [
    "float_num = 5.34267\n",
    "rounded_num = round(float_num, 2)\n",
    "print(f\"Original: {float_num}\")\n",
    "print(f\"Rounded: {rounded_num}\")\n"
   ]
  },
  {
   "cell_type": "markdown",
   "id": "29d89750",
   "metadata": {},
   "source": [
    "# Create a float variable float_num\n",
    "# Use the round function to round float_num to 2 decimal places\n",
    "# Store the result in a new variable rounded_num\n",
    "# Print the original float_num and rounded_num"
   ]
  }
 ],
 "metadata": {
  "kernelspec": {
   "display_name": "Python 3 (ipykernel)",
   "language": "python",
   "name": "python3"
  },
  "language_info": {
   "codemirror_mode": {
    "name": "ipython",
    "version": 3
   },
   "file_extension": ".py",
   "mimetype": "text/x-python",
   "name": "python",
   "nbconvert_exporter": "python",
   "pygments_lexer": "ipython3",
   "version": "3.11.4"
  }
 },
 "nbformat": 4,
 "nbformat_minor": 5
}
