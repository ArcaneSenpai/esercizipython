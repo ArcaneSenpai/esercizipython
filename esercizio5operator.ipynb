{
 "cells": [
  {
   "cell_type": "code",
   "execution_count": 2,
   "id": "56b0f394",
   "metadata": {},
   "outputs": [
    {
     "name": "stdout",
     "output_type": "stream",
     "text": [
      "Mi chiamo Alessio Rotelli\n"
     ]
    }
   ],
   "source": [
    "firstName = \"Alessio\"\n",
    "lastName = \"Rotelli\"\n",
    "\n",
    "sentence = (f\"Mi chiamo {firstName} {lastName}\")\n",
    "\n",
    "print(sentence)\n",
    "\n"
   ]
  },
  {
   "cell_type": "markdown",
   "id": "88a8ed39",
   "metadata": {},
   "source": [
    "# Initialize and print the sentence variable using the appropriate operators."
   ]
  }
 ],
 "metadata": {
  "kernelspec": {
   "display_name": "Python 3 (ipykernel)",
   "language": "python",
   "name": "python3"
  },
  "language_info": {
   "codemirror_mode": {
    "name": "ipython",
    "version": 3
   },
   "file_extension": ".py",
   "mimetype": "text/x-python",
   "name": "python",
   "nbconvert_exporter": "python",
   "pygments_lexer": "ipython3",
   "version": "3.11.4"
  }
 },
 "nbformat": 4,
 "nbformat_minor": 5
}
