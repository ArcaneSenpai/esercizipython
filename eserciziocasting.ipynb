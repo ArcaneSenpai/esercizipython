{
 "cells": [
  {
   "cell_type": "code",
   "execution_count": 15,
   "id": "86ddd630",
   "metadata": {},
   "outputs": [
    {
     "name": "stdout",
     "output_type": "stream",
     "text": [
      "Original float: 1.0\n",
      "Integer cast: 1\n",
      "String cast: 1\n"
     ]
    }
   ],
   "source": [
    "float_num = 1.0\n",
    "int_num = int(float_num)\n",
    "str_num = str(int_num)\n",
    "\n",
    "print(f\"Original float: {float_num}\")\n",
    "print(f\"Integer cast: {int_num}\")\n",
    "print(f\"String cast: {str_num}\")\n"
   ]
  }
 ],
 "metadata": {
  "kernelspec": {
   "display_name": "Python 3 (ipykernel)",
   "language": "python",
   "name": "python3"
  },
  "language_info": {
   "codemirror_mode": {
    "name": "ipython",
    "version": 3
   },
   "file_extension": ".py",
   "mimetype": "text/x-python",
   "name": "python",
   "nbconvert_exporter": "python",
   "pygments_lexer": "ipython3",
   "version": "3.11.4"
  }
 },
 "nbformat": 4,
 "nbformat_minor": 5
}
