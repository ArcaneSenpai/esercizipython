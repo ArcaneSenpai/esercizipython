{
 "cells": [
  {
   "cell_type": "markdown",
   "id": "d227b5d3",
   "metadata": {},
   "source": [
    "# Exercise - Classes and Object 2"
   ]
  },
  {
   "cell_type": "markdown",
   "id": "8a40d74e",
   "metadata": {},
   "source": [
    "### Now continue with the Animal class we had used before\n",
    "\n",
    "Add a method to count the legs which prints the number of legs count_legs\n",
    "\n",
    "Add a method to count the legs which returns the number of legs return_legs\n",
    "\n",
    "print number of legs directly from variable of the object number_of_legs"
   ]
  },
  {
   "cell_type": "code",
   "execution_count": 6,
   "id": "2c51bf7e",
   "metadata": {},
   "outputs": [
    {
     "name": "stdout",
     "output_type": "stream",
     "text": [
      "Animal object was created\n",
      "Running started\n",
      "4\n",
      "4\n"
     ]
    }
   ],
   "source": [
    "class Animal:\n",
    "    def __init__(self, legs):\n",
    "        self.legs = legs\n",
    "        print(\"Animal object was created\")\n",
    "    \n",
    "    def runs(self):\n",
    "        print(\"Running started\")\n",
    "        \n",
    "    def count_legs(self):\n",
    "        print(self.legs)\n",
    "        \n",
    "    def return_legs(self):\n",
    "        return self.legs\n",
    "    \n",
    "animal = Animal(4)\n",
    "animal.runs()\n",
    "animal.count_legs()\n",
    "number_of_legs = animal.return_legs()\n",
    "print(number_of_legs)\n"
   ]
  }
 ],
 "metadata": {
  "kernelspec": {
   "display_name": "Python 3 (ipykernel)",
   "language": "python",
   "name": "python3"
  },
  "language_info": {
   "codemirror_mode": {
    "name": "ipython",
    "version": 3
   },
   "file_extension": ".py",
   "mimetype": "text/x-python",
   "name": "python",
   "nbconvert_exporter": "python",
   "pygments_lexer": "ipython3",
   "version": "3.11.4"
  }
 },
 "nbformat": 4,
 "nbformat_minor": 5
}
