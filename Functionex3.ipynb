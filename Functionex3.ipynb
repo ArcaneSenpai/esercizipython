{
 "cells": [
  {
   "cell_type": "markdown",
   "id": "3be24de1",
   "metadata": {},
   "source": [
    "# Exercise - Functions 3"
   ]
  },
  {
   "cell_type": "markdown",
   "id": "88982f1c",
   "metadata": {},
   "source": [
    "### Let's see what is your user name on your computer\n",
    "to do that we are going to use os module which is a built in module in python\n",
    "and has many built in functions in it\n",
    "\n",
    "to be able to use os functions\n",
    "import os then call getlogin method of the module\n",
    "then assign the output to user variable and print the user"
   ]
  },
  {
   "cell_type": "code",
   "execution_count": 1,
   "id": "c054b384",
   "metadata": {},
   "outputs": [
    {
     "name": "stdout",
     "output_type": "stream",
     "text": [
      "Alessio\n"
     ]
    }
   ],
   "source": [
    "import os\n",
    "user = os.getlogin()\n",
    "print(user)"
   ]
  }
 ],
 "metadata": {
  "kernelspec": {
   "display_name": "Python 3 (ipykernel)",
   "language": "python",
   "name": "python3"
  },
  "language_info": {
   "codemirror_mode": {
    "name": "ipython",
    "version": 3
   },
   "file_extension": ".py",
   "mimetype": "text/x-python",
   "name": "python",
   "nbconvert_exporter": "python",
   "pygments_lexer": "ipython3",
   "version": "3.11.4"
  }
 },
 "nbformat": 4,
 "nbformat_minor": 5
}
