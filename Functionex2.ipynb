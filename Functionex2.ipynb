{
 "cells": [
  {
   "cell_type": "markdown",
   "id": "63cc05d7",
   "metadata": {},
   "source": [
    "# Exercise - Functions 2 "
   ]
  },
  {
   "cell_type": "markdown",
   "id": "d6d23148",
   "metadata": {},
   "source": [
    "### Inside the parenthesis variables can be used those variables as known as parameters of the function provides control inside the function example is here\n",
    "\n",
    "def hello(name):\n",
    "    print(f\"hello {name}\")\n",
    "Now you create a function named goodbye with a parameter name and say \"Good bye Adam\""
   ]
  },
  {
   "cell_type": "code",
   "execution_count": 11,
   "id": "55903c13",
   "metadata": {},
   "outputs": [
    {
     "name": "stdout",
     "output_type": "stream",
     "text": [
      "Goodbye Adam\n"
     ]
    }
   ],
   "source": [
    "def goodbye(name):\n",
    "    print(\"Goodbye \" + name)\n",
    "    \n",
    "goodbye(\"Adam\")\n"
   ]
  }
 ],
 "metadata": {
  "kernelspec": {
   "display_name": "Python 3 (ipykernel)",
   "language": "python",
   "name": "python3"
  },
  "language_info": {
   "codemirror_mode": {
    "name": "ipython",
    "version": 3
   },
   "file_extension": ".py",
   "mimetype": "text/x-python",
   "name": "python",
   "nbconvert_exporter": "python",
   "pygments_lexer": "ipython3",
   "version": "3.11.4"
  }
 },
 "nbformat": 4,
 "nbformat_minor": 5
}
