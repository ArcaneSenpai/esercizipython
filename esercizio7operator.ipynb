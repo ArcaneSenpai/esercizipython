{
 "cells": [
  {
   "cell_type": "code",
   "execution_count": 10,
   "id": "df5fd9b4",
   "metadata": {},
   "outputs": [
    {
     "name": "stdout",
     "output_type": "stream",
     "text": [
      "Reebok is not in the brands\n"
     ]
    }
   ],
   "source": [
    "brands = [\"Nike\", \"Adidas\"]\n",
    "if \"Reebok\" not in brands:\n",
    "    print(\"Reebok is not in the brands\")\n",
    "    \n",
    "else:\n",
    "    print(\"Reebok is in the brands\")"
   ]
  },
  {
   "cell_type": "markdown",
   "id": "5d17ad28",
   "metadata": {},
   "source": [
    "# Check if \"Reebok\" is not in brands array using the appropriate logical operator\n"
   ]
  }
 ],
 "metadata": {
  "kernelspec": {
   "display_name": "Python 3 (ipykernel)",
   "language": "python",
   "name": "python3"
  },
  "language_info": {
   "codemirror_mode": {
    "name": "ipython",
    "version": 3
   },
   "file_extension": ".py",
   "mimetype": "text/x-python",
   "name": "python",
   "nbconvert_exporter": "python",
   "pygments_lexer": "ipython3",
   "version": "3.11.4"
  }
 },
 "nbformat": 4,
 "nbformat_minor": 5
}
