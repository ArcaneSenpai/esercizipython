{
 "cells": [
  {
   "cell_type": "code",
   "execution_count": null,
   "id": "9863d4fb",
   "metadata": {
    "scrolled": false
   },
   "outputs": [],
   "source": [
    "num1 = float(input(\"Enter the first number: \"))\n",
    "num2 = float(input(\"Enter the second number: \"))\n",
    "\n",
    "if num1 > num2:\n",
    "    print(\"First number is greater\")\n",
    "elif num2 > num1:\n",
    "    print(\"Second number is greater\")\n",
    "else:\n",
    "    print(\"Both numbers are equal\")"
   ]
  },
  {
   "cell_type": "markdown",
   "id": "9b5f5615",
   "metadata": {},
   "source": [
    "# Write a python program to input two numbers from the user and check which number is greater. If the first number is greater, print \"First number is greater\". If the second number is greater, print \"Second number is greater\". If both are equal, print \"Both numbers are equal\".\n",
    "# Write a python program to find the sum of three numbers and check if it is even or odd. If the sum is even, print \"The sum is even\". If the sum is odd, print \"The sum is odd\".\n",
    "# Write a python program to check if a year is a leap year or not. If the year is a leap year, print \"The year is a leap year\". If the year is not a leap year, print \"The year is not a leap year\"."
   ]
  },
  {
   "cell_type": "code",
   "execution_count": null,
   "id": "3c34971c",
   "metadata": {},
   "outputs": [],
   "source": [
    "num1 = int(input(\"Enter the first number: \"))\n",
    "num2 = int(input(\"Enter the second number: \"))\n",
    "num3 = int(input(\"Enter the third number: \"))\n",
    "\n",
    "sum = num1 + num2 + num3\n",
    "\n",
    "if sum % 2 == 0:\n",
    "    print(\"The sum is even\")\n",
    "else:\n",
    "    print(\"The sum is odd\")"
   ]
  },
  {
   "cell_type": "code",
   "execution_count": null,
   "id": "22a388aa",
   "metadata": {},
   "outputs": [],
   "source": [
    "year = int(input(\"Enter a year: \"))\n",
    "\n",
    "if (year % 4) == 0:\n",
    "    if (year % 100) == 0:\n",
    "        if (year % 400) == 0:\n",
    "            print(\"The year is a leap year\")\n",
    "        else:\n",
    "            print(\"The year is not a leap year\")\n",
    "    else:\n",
    "        print(\"The year is a leap year\")\n",
    "else:\n",
    "    print(\"The year is not a leap year\")"
   ]
  }
 ],
 "metadata": {
  "kernelspec": {
   "display_name": "Python 3 (ipykernel)",
   "language": "python",
   "name": "python3"
  },
  "language_info": {
   "codemirror_mode": {
    "name": "ipython",
    "version": 3
   },
   "file_extension": ".py",
   "mimetype": "text/x-python",
   "name": "python",
   "nbconvert_exporter": "python",
   "pygments_lexer": "ipython3",
   "version": "3.11.4"
  }
 },
 "nbformat": 4,
 "nbformat_minor": 5
}
