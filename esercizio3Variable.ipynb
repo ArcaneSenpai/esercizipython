{
 "cells": [
  {
   "cell_type": "markdown",
   "id": "6aab5686",
   "metadata": {},
   "source": [
    "# Eserizio 3 Variable"
   ]
  },
  {
   "cell_type": "markdown",
   "id": "2dbf5450",
   "metadata": {},
   "source": [
    "### Creating variables for your name, age, and city of residence.\n",
    "Using string concatenation to display a sentence about yourself using the above variables.\n",
    "Modifying the variables to add a title (Mr. or Ms.) in front of your name.\n",
    "Using the string format method to display the same sentence as in exercise 2.\n",
    "Create a variable called \"name\" and assign a string value to it and “age\" and assign an integer value to it, and Create a variable called \"height\" and assign a floating point value to it, and Create a variable called \"is_student\" and assign a boolean value to it.\n",
    "Print the type of each of variables from exercise 5 using format method or f string."
   ]
  },
  {
   "cell_type": "code",
   "execution_count": 29,
   "id": "e6bbda6b",
   "metadata": {},
   "outputs": [],
   "source": [
    "name = \"Alessio\"\n",
    "age = 23\n",
    "city = \"Rome\""
   ]
  },
  {
   "cell_type": "code",
   "execution_count": 30,
   "id": "515ce408",
   "metadata": {},
   "outputs": [
    {
     "name": "stdout",
     "output_type": "stream",
     "text": [
      "Alessio is 23 years old and lives in Rome\n"
     ]
    }
   ],
   "source": [
    "sentence = name + \" is \" + str(age) + \" years old and lives in \" + city \n",
    "print(sentence)"
   ]
  },
  {
   "cell_type": "code",
   "execution_count": 31,
   "id": "fce0ac4d",
   "metadata": {},
   "outputs": [],
   "source": [
    "title = \"Mr.\"\n",
    "name = title + \" \" + name"
   ]
  },
  {
   "cell_type": "code",
   "execution_count": 32,
   "id": "64fff985",
   "metadata": {},
   "outputs": [
    {
     "name": "stdout",
     "output_type": "stream",
     "text": [
      "Mr. Alessio is 23 years old and lives in Rome.\n"
     ]
    }
   ],
   "source": [
    "sentence = \"{} is {} years old and lives in {}.\".format(name, age, city)\n",
    "print(sentence)\n"
   ]
  },
  {
   "cell_type": "code",
   "execution_count": 33,
   "id": "e029e4a8",
   "metadata": {},
   "outputs": [],
   "source": [
    "name = \"Alessio\"\n",
    "age = 23\n",
    "height = 1.70\n",
    "is_student = True "
   ]
  },
  {
   "cell_type": "code",
   "execution_count": 34,
   "id": "195d9ad8",
   "metadata": {},
   "outputs": [
    {
     "name": "stdout",
     "output_type": "stream",
     "text": [
      "Type of name: <class 'str'>\n",
      "Type of age: <class 'int'>\n",
      "Type of height: <class 'float'>\n",
      "Type of is_student: <class 'bool'>\n"
     ]
    }
   ],
   "source": [
    "print(\"Type of name: {}\".format(type(name)))\n",
    "print(\"Type of age: {}\".format(type(age)))\n",
    "print(\"Type of height: {}\".format(type(height)))\n",
    "print(\"Type of is_student: {}\".format(type(is_student)))"
   ]
  }
 ],
 "metadata": {
  "kernelspec": {
   "display_name": "Python 3 (ipykernel)",
   "language": "python",
   "name": "python3"
  },
  "language_info": {
   "codemirror_mode": {
    "name": "ipython",
    "version": 3
   },
   "file_extension": ".py",
   "mimetype": "text/x-python",
   "name": "python",
   "nbconvert_exporter": "python",
   "pygments_lexer": "ipython3",
   "version": "3.11.4"
  }
 },
 "nbformat": 4,
 "nbformat_minor": 5
}
