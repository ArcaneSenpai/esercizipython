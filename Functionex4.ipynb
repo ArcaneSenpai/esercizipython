{
 "cells": [
  {
   "cell_type": "markdown",
   "id": "fc20150a",
   "metadata": {},
   "source": [
    "# Exercice - Function 4"
   ]
  },
  {
   "cell_type": "markdown",
   "id": "ff5902d8",
   "metadata": {},
   "source": [
    "### Now create a function for John Doe and his family that greets every one in the family.\n",
    "Since it will usually John Doe the name and surname parameter must be defaulted\n",
    "and when someone else comes it has to greet the new comer with name surname parameters which were overwritten. Make it possible.\n",
    "The function have to print \"Hello John Doe\" where John and Doe is parametric\n",
    "Greet each our John first then the people in the list with for loop and the function\n",
    "What you have to use\n",
    "\n",
    "for loop\n",
    "function\n",
    "string operation\n",
    "list index\n",
    "Output format\n",
    "\n",
    "Hello John Doe!\n",
    "Hello Tristram Mcbride!\n",
    "Hello Baldwin Preston!\n",
    "Hello Wally Collins!"
   ]
  },
  {
   "cell_type": "code",
   "execution_count": 1,
   "id": "ccb050db",
   "metadata": {},
   "outputs": [
    {
     "name": "stdout",
     "output_type": "stream",
     "text": [
      "Hello John Doe!\n",
      "Hello Tristram Mcbride!\n",
      "Hello Baldwin Preston!\n",
      "Hello Wally Collins!\n"
     ]
    }
   ],
   "source": [
    "def greet_family(family_members, name=\"John\", surname=\"Doe\"):\n",
    "    print(f\"Hello {name} {surname}!\")\n",
    "    for member in family_members:\n",
    "        print(f\"Hello {member}!\")\n",
    "\n",
    "family_members = [\"Tristram Mcbride\", \"Baldwin Preston\", \"Wally Collins\"]\n",
    "greet_family(family_members)"
   ]
  }
 ],
 "metadata": {
  "kernelspec": {
   "display_name": "Python 3 (ipykernel)",
   "language": "python",
   "name": "python3"
  },
  "language_info": {
   "codemirror_mode": {
    "name": "ipython",
    "version": 3
   },
   "file_extension": ".py",
   "mimetype": "text/x-python",
   "name": "python",
   "nbconvert_exporter": "python",
   "pygments_lexer": "ipython3",
   "version": "3.11.4"
  }
 },
 "nbformat": 4,
 "nbformat_minor": 5
}
