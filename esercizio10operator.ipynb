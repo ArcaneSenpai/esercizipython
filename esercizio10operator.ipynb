{
 "cells": [
  {
   "cell_type": "code",
   "execution_count": 1,
   "id": "f3cdf712",
   "metadata": {},
   "outputs": [
    {
     "name": "stdout",
     "output_type": "stream",
     "text": [
      "Il numero di vocali nella frase è: 18\n"
     ]
    }
   ],
   "source": [
    "frase = \"La volpe marrone veloce salta sopra il cane pigro.\"\n",
    "vocali = \"aeiouAEIOU\"\n",
    "conteggio = 0\n",
    "\n",
    "for lettera in frase:\n",
    "    if lettera in vocali:\n",
    "        conteggio += 1\n",
    "\n",
    "print(f\"Il numero di vocali nella frase è: {conteggio}\")\n"
   ]
  },
  {
   "cell_type": "code",
   "execution_count": 4,
   "id": "627898a3",
   "metadata": {},
   "outputs": [
    {
     "name": "stdout",
     "output_type": "stream",
     "text": [
      "[1, 3, 5, 7, 9]\n"
     ]
    }
   ],
   "source": [
    "numeri = [1, 2, 3, 4, 5, 6, 7, 8, 9, 10]\n",
    "nuovo_numeri = [x for x in numeri if x % 2 != 0]\n",
    "print(nuovo_numeri)\n"
   ]
  },
  {
   "cell_type": "code",
   "execution_count": 5,
   "id": "27e0e2a0",
   "metadata": {},
   "outputs": [
    {
     "name": "stdout",
     "output_type": "stream",
     "text": [
      "Lista dei numeri: [1, 3, 5]\n",
      "Lista delle stringhe: ['mela', 'banana', 'ciliegia']\n"
     ]
    }
   ],
   "source": [
    "mista = [1, \"mela\", 3, \"banana\", 5, \"ciliegia\"]\n",
    "numeri = []\n",
    "stringhe = []\n",
    "\n",
    "for elemento in mista:\n",
    "    if isinstance(elemento, int):\n",
    "        numeri.append(elemento)\n",
    "    elif isinstance(elemento, str):\n",
    "        stringhe.append(elemento)\n",
    "\n",
    "print(\"Lista dei numeri:\", numeri)\n",
    "print(\"Lista delle stringhe:\", stringhe)\n"
   ]
  },
  {
   "cell_type": "code",
   "execution_count": null,
   "id": "9647b6c9",
   "metadata": {},
   "outputs": [],
   "source": []
  }
 ],
 "metadata": {
  "kernelspec": {
   "display_name": "Python 3 (ipykernel)",
   "language": "python",
   "name": "python3"
  },
  "language_info": {
   "codemirror_mode": {
    "name": "ipython",
    "version": 3
   },
   "file_extension": ".py",
   "mimetype": "text/x-python",
   "name": "python",
   "nbconvert_exporter": "python",
   "pygments_lexer": "ipython3",
   "version": "3.11.4"
  }
 },
 "nbformat": 4,
 "nbformat_minor": 5
}
