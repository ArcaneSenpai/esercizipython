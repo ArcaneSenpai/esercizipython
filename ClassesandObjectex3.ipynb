{
 "cells": [
  {
   "cell_type": "markdown",
   "id": "2c2a794e",
   "metadata": {},
   "source": [
    "# Exercise - Classes and Object 3"
   ]
  },
  {
   "cell_type": "markdown",
   "id": "8c6c220d",
   "metadata": {},
   "source": [
    "### Again let's keep talking on Animal class we have.\n",
    "with 3 methods we just reached the number of legs\n",
    "to prevent direct interacting with the class variables\n",
    "most of the other programming languages have encapsulation.\n",
    "But in python we don't have it instead we use prefix for it as convention\n",
    "it is also same for the methods _\n",
    "\n",
    "_legs this shows us not to touch this variable its up to you if you want to change it you can but asks you politely not to do it. _\n",
    "\n",
    "Change the to conventional private variable and call from another methodnumber_of_legs"
   ]
  },
  {
   "cell_type": "code",
   "execution_count": 17,
   "id": "a8d341fe",
   "metadata": {},
   "outputs": [
    {
     "name": "stdout",
     "output_type": "stream",
     "text": [
      "Animal object was created\n",
      "Running started\n",
      "4\n",
      "4\n"
     ]
    }
   ],
   "source": [
    "class Animal:\n",
    "    def __init__(self, legs):\n",
    "        self.legs = legs\n",
    "        print(\"Animal object was created\")\n",
    "    \n",
    "    def runs(self):\n",
    "        print(\"Running started\")\n",
    "        \n",
    "    def count_legs(self):\n",
    "        print(self.legs)\n",
    "        \n",
    "    def return_legs(self):\n",
    "        return self.legs\n",
    "    \n",
    "    def _another_count_legs ( self ) :\n",
    "        print( f\"Number of legs - _another_count_legs method - : {self._number_of_legs}\" )\n",
    "    \n",
    "animal = Animal(4)\n",
    "animal.runs()\n",
    "animal.count_legs()\n",
    "number_of_legs = animal.return_legs()\n",
    "print(number_of_legs)\n"
   ]
  }
 ],
 "metadata": {
  "kernelspec": {
   "display_name": "Python 3 (ipykernel)",
   "language": "python",
   "name": "python3"
  },
  "language_info": {
   "codemirror_mode": {
    "name": "ipython",
    "version": 3
   },
   "file_extension": ".py",
   "mimetype": "text/x-python",
   "name": "python",
   "nbconvert_exporter": "python",
   "pygments_lexer": "ipython3",
   "version": "3.11.4"
  }
 },
 "nbformat": 4,
 "nbformat_minor": 5
}
