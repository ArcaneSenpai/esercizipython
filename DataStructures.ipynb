{
 "cells": [
  {
   "cell_type": "code",
   "execution_count": 4,
   "id": "100925d5",
   "metadata": {},
   "outputs": [
    {
     "name": "stdout",
     "output_type": "stream",
     "text": [
      "Length of list1: 4\n",
      "Length of tuple1: 4\n",
      "Length of set1: 4\n",
      "Length of dict1: 4\n"
     ]
    }
   ],
   "source": [
    "list1 = [\"lion\", \"monkey\", \"dog\",\"fish\"]\n",
    "tuple1 = (\"lion\", \"monkey\", \"dog\",\"fish\")\n",
    "set1 = {\"lion\", \"monkey\", \"dog\",\"fish\"}\n",
    "dict1 = {\"lion\":4, \"monkey\":2, \"dog\":4,\"fish\":2}\n",
    "\n",
    "print(\"Length of list1:\", len(list1))\n",
    "print(\"Length of tuple1:\", len(tuple1))\n",
    "print(\"Length of set1:\", len(set1))\n",
    "print(\"Length of dict1:\", len(dict1))"
   ]
  },
  {
   "cell_type": "code",
   "execution_count": 3,
   "id": "65336ade",
   "metadata": {},
   "outputs": [
    {
     "name": "stdout",
     "output_type": "stream",
     "text": [
      "lion\n",
      "lion\n"
     ]
    }
   ],
   "source": [
    "list1 = [\"lion\", \"monkey\", \"dog\",\"fish\"]\n",
    "tuple1 = (\"lion\", \"monkey\", \"dog\",\"fish\")\n",
    "\n",
    "print(list1[0])\n",
    "print(tuple1[0])"
   ]
  },
  {
   "cell_type": "code",
   "execution_count": 2,
   "id": "a4a19d0b",
   "metadata": {},
   "outputs": [
    {
     "name": "stdout",
     "output_type": "stream",
     "text": [
      "4\n"
     ]
    }
   ],
   "source": [
    "dict1 = {\"lion\":4, \"monkey\":2, \"dog\":4,\"fish\":2}\n",
    "\n",
    "print(dict1[\"lion\"])"
   ]
  },
  {
   "cell_type": "code",
   "execution_count": 11,
   "id": "96d318a8",
   "metadata": {},
   "outputs": [
    {
     "name": "stdout",
     "output_type": "stream",
     "text": [
      "['lion', 'rabbit', 'dog', 'fish']\n"
     ]
    }
   ],
   "source": [
    "list1[1] = 'rabbit'\n",
    "print(list1)"
   ]
  },
  {
   "cell_type": "code",
   "execution_count": 12,
   "id": "ebe9bf7d",
   "metadata": {},
   "outputs": [
    {
     "ename": "TypeError",
     "evalue": "'tuple' object does not support item assignment",
     "output_type": "error",
     "traceback": [
      "\u001b[1;31m---------------------------------------------------------------------------\u001b[0m",
      "\u001b[1;31mTypeError\u001b[0m                                 Traceback (most recent call last)",
      "Cell \u001b[1;32mIn[12], line 1\u001b[0m\n\u001b[1;32m----> 1\u001b[0m \u001b[43mtuple1\u001b[49m\u001b[43m[\u001b[49m\u001b[38;5;241;43m1\u001b[39;49m\u001b[43m]\u001b[49m \u001b[38;5;241m=\u001b[39m \u001b[38;5;124m'\u001b[39m\u001b[38;5;124mrabbit\u001b[39m\u001b[38;5;124m'\u001b[39m\n\u001b[0;32m      2\u001b[0m tuple1\n",
      "\u001b[1;31mTypeError\u001b[0m: 'tuple' object does not support item assignment"
     ]
    }
   ],
   "source": [
    "tuple1[1] = 'rabbit'\n",
    "tuple1\n",
    "\n",
    "\n",
    "###ci da errore, perche l'oggetto 'tuple' non supporta l'assegnazione degli elementi."
   ]
  },
  {
   "cell_type": "code",
   "execution_count": 8,
   "id": "262c635c",
   "metadata": {},
   "outputs": [
    {
     "name": "stdout",
     "output_type": "stream",
     "text": [
      "['lion', 'monkey', 'rabbit', 'dog', 'fish']\n"
     ]
    }
   ],
   "source": [
    "list1 = [\"lion\", \"monkey\", \"dog\", \"fish\"]\n",
    "list1.insert(1, \"monkey\")\n",
    "list1[2] = \"rabbit\"\n",
    "print(list1)"
   ]
  },
  {
   "cell_type": "code",
   "execution_count": 9,
   "id": "7dc964b5",
   "metadata": {},
   "outputs": [
    {
     "name": "stdout",
     "output_type": "stream",
     "text": [
      "['lion', 'monkey', 'dog', 'fish']\n"
     ]
    }
   ],
   "source": [
    "list1 = ['lion', 'monkey', 'rabbit', 'dog', 'fish']\n",
    "list1.remove(\"rabbit\")\n",
    "print(list1)"
   ]
  },
  {
   "cell_type": "code",
   "execution_count": 15,
   "id": "fb58b967",
   "metadata": {},
   "outputs": [
    {
     "name": "stdout",
     "output_type": "stream",
     "text": [
      "{'lion': 4, 'monkey': 2, 'dog': 4, 'fish': 0}\n"
     ]
    }
   ],
   "source": [
    "dict1 = {\"lion\":4, \"monkey\":2, \"dog\":4,\"fish\":2}\n",
    "dict1['fish'] = 0\n",
    "print(dict1)"
   ]
  }
 ],
 "metadata": {
  "kernelspec": {
   "display_name": "Python 3 (ipykernel)",
   "language": "python",
   "name": "python3"
  },
  "language_info": {
   "codemirror_mode": {
    "name": "ipython",
    "version": 3
   },
   "file_extension": ".py",
   "mimetype": "text/x-python",
   "name": "python",
   "nbconvert_exporter": "python",
   "pygments_lexer": "ipython3",
   "version": "3.11.4"
  }
 },
 "nbformat": 4,
 "nbformat_minor": 5
}
