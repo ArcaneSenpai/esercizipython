{
 "cells": [
  {
   "cell_type": "markdown",
   "id": "f1e9ab21",
   "metadata": {},
   "source": [
    "# Esercizio 1 Variable "
   ]
  },
  {
   "cell_type": "markdown",
   "id": "90f0c2c2",
   "metadata": {},
   "source": [
    "# You have the variable a that is the sentence “Laura and tom went ON a long walk.” Apply the following changes:\n",
    "\n",
    "Lowercase the word “ON”\n",
    "Capitalize the name “tom”\n",
    "Uppercase the word “long”\n",
    "Change the letter “a” with “o” in the word “walk” using the appropriate python method.\n",
    "Now print the modified sentence.\n",
    "Use the appropriate python method to create separate strings out of each word in the new sentence."
   ]
  },
  {
   "cell_type": "code",
   "execution_count": 2,
   "id": "c76f8375",
   "metadata": {},
   "outputs": [
    {
     "name": "stdout",
     "output_type": "stream",
     "text": [
      "Laura and Tom went on a LONG wolk.\n"
     ]
    }
   ],
   "source": [
    "a = \"Laura and tom went ON a long walk.\"\n",
    "a = a.replace(\"ON\", \"on\")\n",
    "a = a.replace(\"tom\", \"Tom\")\n",
    "a = a.replace(\"long\", \"LONG\")\n",
    "a = a.replace(\"walk\", \"wolk\")\n",
    "print(a)"
   ]
  },
  {
   "cell_type": "code",
   "execution_count": 3,
   "id": "944b4869",
   "metadata": {},
   "outputs": [
    {
     "name": "stdout",
     "output_type": "stream",
     "text": [
      "['Laura', 'and', 'Tom', 'went', 'on', 'a', 'LONG', 'wolk.']\n"
     ]
    }
   ],
   "source": [
    "words = a.split()\n",
    "print(words)"
   ]
  }
 ],
 "metadata": {
  "kernelspec": {
   "display_name": "Python 3 (ipykernel)",
   "language": "python",
   "name": "python3"
  },
  "language_info": {
   "codemirror_mode": {
    "name": "ipython",
    "version": 3
   },
   "file_extension": ".py",
   "mimetype": "text/x-python",
   "name": "python",
   "nbconvert_exporter": "python",
   "pygments_lexer": "ipython3",
   "version": "3.11.4"
  }
 },
 "nbformat": 4,
 "nbformat_minor": 5
}
