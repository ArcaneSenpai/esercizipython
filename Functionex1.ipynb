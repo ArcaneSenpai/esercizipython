{
 "cells": [
  {
   "cell_type": "markdown",
   "id": "7fd9f7cf",
   "metadata": {},
   "source": [
    "# Exercise - Functions 1"
   ]
  },
  {
   "cell_type": "code",
   "execution_count": null,
   "id": "21f602b9",
   "metadata": {},
   "outputs": [],
   "source": [
    "###### To create functions in python we start with def word and after it the name of function comes with without parameters\n",
    "example is here\n",
    "\n",
    "def hello():\n",
    "    print(\"hello\")\n",
    "Now you create a function named goodbye without parameters which prints good bye"
   ]
  },
  {
   "cell_type": "code",
   "execution_count": 9,
   "id": "b7ea0a1b",
   "metadata": {},
   "outputs": [],
   "source": [
    "def goodbye () :\n",
    "    print( \"Good bye\" )"
   ]
  },
  {
   "cell_type": "code",
   "execution_count": 10,
   "id": "7716a318",
   "metadata": {},
   "outputs": [
    {
     "name": "stdout",
     "output_type": "stream",
     "text": [
      "Good bye\n"
     ]
    }
   ],
   "source": [
    "goodbye()"
   ]
  }
 ],
 "metadata": {
  "kernelspec": {
   "display_name": "Python 3 (ipykernel)",
   "language": "python",
   "name": "python3"
  },
  "language_info": {
   "codemirror_mode": {
    "name": "ipython",
    "version": 3
   },
   "file_extension": ".py",
   "mimetype": "text/x-python",
   "name": "python",
   "nbconvert_exporter": "python",
   "pygments_lexer": "ipython3",
   "version": "3.11.4"
  }
 },
 "nbformat": 4,
 "nbformat_minor": 5
}
