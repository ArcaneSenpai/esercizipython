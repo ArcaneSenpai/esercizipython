{
 "cells": [
  {
   "cell_type": "code",
   "execution_count": 5,
   "id": "45e0c9e5",
   "metadata": {},
   "outputs": [
    {
     "name": "stdout",
     "output_type": "stream",
     "text": [
      "You are an adult\n"
     ]
    }
   ],
   "source": [
    "age = 20\n",
    "if age < 18:\n",
    "    print(\"You are a teenager\")\n",
    "else:\n",
    "    print(\"You are an adult\")"
   ]
  },
  {
   "cell_type": "markdown",
   "id": "aa15d8db",
   "metadata": {},
   "source": [
    "# Create a variable called age and assign the value 20 to it. Then write an if statement that prints \"You are a teenager\" if the value of age is less than 18, and \"You are an adult\" if the value of age is equal to or greater than 18.\n",
    "# Create two variables called name and city. Then write an if statement that prints \"You are from [city]\" if the value of name is equal to \"John\" or \"Jane\", and \"You are not from [city]\" if the value of name is anything else.\n",
    "# Create a variable called password and assign a value to it. Then write an if statement that checks if the length of password is less than 6 characters. If it is, then print \"The password is too short\". Otherwise, print \"The password is long enough\".\n",
    "# Create a variable called number and assign a value to it. Then write an if statement that checks if number is positive, negative, or zero. If it is positive, print \"The number is positive\". If it is negative, print \"The number is negative\". If it is zero, print \"The number is zero\".\n",
    "# Create two variables called x and y. Then write an if statement that prints \"x is greater than y\" if x is greater than y, and \"y is greater than x\" if y is greater than x.\n",
    "# Create two variables called a and b. Then write an if statement that prints \"a is equal to b\" if a is equal to b, and \"a is not equal to"
   ]
  },
  {
   "cell_type": "code",
   "execution_count": 6,
   "id": "c648a6b4",
   "metadata": {},
   "outputs": [
    {
     "name": "stdout",
     "output_type": "stream",
     "text": [
      "You are from New York\n"
     ]
    }
   ],
   "source": [
    "name = \"John\"\n",
    "city = \"New York\"\n",
    "\n",
    "if name == \"John\" or name == \"Jane\":\n",
    "    print(f\"You are from {city}\")\n",
    "else:\n",
    "    print(f\"You are not from {city}\")"
   ]
  },
  {
   "cell_type": "code",
   "execution_count": 7,
   "id": "a0c1eb2c",
   "metadata": {},
   "outputs": [
    {
     "name": "stdout",
     "output_type": "stream",
     "text": [
      "The password is too short\n"
     ]
    }
   ],
   "source": [
    "password = \"12345\"\n",
    "if len(password) < 6:\n",
    "    print(\"The password is too short\")\n",
    "else:\n",
    "    print(\"The password is long enough\")"
   ]
  },
  {
   "cell_type": "code",
   "execution_count": 8,
   "id": "8c654215",
   "metadata": {},
   "outputs": [
    {
     "name": "stdout",
     "output_type": "stream",
     "text": [
      "The number is positive\n"
     ]
    }
   ],
   "source": [
    "number = 5\n",
    "\n",
    "if number > 0:\n",
    "    print(\"The number is positive\")\n",
    "elif number < 0:\n",
    "    print(\"The number is negative\")\n",
    "else:\n",
    "    print(\"The number is zero\")"
   ]
  },
  {
   "cell_type": "code",
   "execution_count": 9,
   "id": "7f1f9dbc",
   "metadata": {},
   "outputs": [
    {
     "name": "stdout",
     "output_type": "stream",
     "text": [
      "x is greater than y\n"
     ]
    }
   ],
   "source": [
    "x = 5\n",
    "y = 2\n",
    "\n",
    "if x > y:\n",
    "    print(\"x is greater than y\")\n",
    "elif y > x:\n",
    "    print(\"y is greater than x\")"
   ]
  },
  {
   "cell_type": "code",
   "execution_count": 10,
   "id": "ac6ca39b",
   "metadata": {},
   "outputs": [
    {
     "name": "stdout",
     "output_type": "stream",
     "text": [
      "a is equal to b\n"
     ]
    }
   ],
   "source": [
    "a = 5\n",
    "b = 5\n",
    "\n",
    "if a == b:\n",
    "    print(\"a is equal to b\")\n",
    "else:\n",
    "    print(\"a is not equal to b\")"
   ]
  }
 ],
 "metadata": {
  "kernelspec": {
   "display_name": "Python 3 (ipykernel)",
   "language": "python",
   "name": "python3"
  },
  "language_info": {
   "codemirror_mode": {
    "name": "ipython",
    "version": 3
   },
   "file_extension": ".py",
   "mimetype": "text/x-python",
   "name": "python",
   "nbconvert_exporter": "python",
   "pygments_lexer": "ipython3",
   "version": "3.11.4"
  }
 },
 "nbformat": 4,
 "nbformat_minor": 5
}
