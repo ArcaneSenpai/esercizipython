{
 "cells": [
  {
   "cell_type": "markdown",
   "id": "8c713466",
   "metadata": {},
   "source": [
    "# Exercise - Classes and Object 1"
   ]
  },
  {
   "cell_type": "markdown",
   "id": "26088f9b",
   "metadata": {},
   "source": [
    "### Let's create Animal class and then create the animal object that runs and having 4 legs\n",
    "\n",
    "create animal object with leg count when created print and then call method of it and it prints \"Animal object was created\"runs\"Running started\""
   ]
  },
  {
   "cell_type": "code",
   "execution_count": 2,
   "id": "d87707f8",
   "metadata": {},
   "outputs": [
    {
     "name": "stdout",
     "output_type": "stream",
     "text": [
      "Animal object was created\n",
      "Running started\n"
     ]
    }
   ],
   "source": [
    "class Animal:\n",
    "    def __init__(self, legs):\n",
    "        self.legs = legs\n",
    "        print(\"Animal object was created\")\n",
    "    \n",
    "    def runs(self):\n",
    "        print(\"Running started\")\n",
    "        \n",
    "animal = Animal(4)\n",
    "animal.runs()"
   ]
  }
 ],
 "metadata": {
  "kernelspec": {
   "display_name": "Python 3 (ipykernel)",
   "language": "python",
   "name": "python3"
  },
  "language_info": {
   "codemirror_mode": {
    "name": "ipython",
    "version": 3
   },
   "file_extension": ".py",
   "mimetype": "text/x-python",
   "name": "python",
   "nbconvert_exporter": "python",
   "pygments_lexer": "ipython3",
   "version": "3.11.4"
  }
 },
 "nbformat": 4,
 "nbformat_minor": 5
}
