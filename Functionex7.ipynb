{
 "cells": [
  {
   "cell_type": "markdown",
   "id": "b532f33b",
   "metadata": {},
   "source": [
    "# Exercise - Function 7"
   ]
  },
  {
   "cell_type": "markdown",
   "id": "0a5f7e5f",
   "metadata": {},
   "source": [
    "### Create a lambda function that returns 2nd power of given number if its even\n",
    "and run it on the given list\n",
    "then print the result to the screen"
   ]
  },
  {
   "cell_type": "code",
   "execution_count": 7,
   "id": "3d72e947",
   "metadata": {},
   "outputs": [
    {
     "name": "stdout",
     "output_type": "stream",
     "text": [
      "[1, 4, 3, 16, 5]\n"
     ]
    }
   ],
   "source": [
    "lst = [ 1, 2, 3, 4, 5 ] \n",
    "even_sqare = lambda number : number ** 2 if number % 2 == 0 else number\n",
    "result_list = [ even_sqare(num) for num in numbers]\n",
    "print(result_list)"
   ]
  }
 ],
 "metadata": {
  "kernelspec": {
   "display_name": "Python 3 (ipykernel)",
   "language": "python",
   "name": "python3"
  },
  "language_info": {
   "codemirror_mode": {
    "name": "ipython",
    "version": 3
   },
   "file_extension": ".py",
   "mimetype": "text/x-python",
   "name": "python",
   "nbconvert_exporter": "python",
   "pygments_lexer": "ipython3",
   "version": "3.11.4"
  }
 },
 "nbformat": 4,
 "nbformat_minor": 5
}
