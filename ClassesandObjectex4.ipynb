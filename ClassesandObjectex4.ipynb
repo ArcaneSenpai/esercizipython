{
 "cells": [
  {
   "cell_type": "markdown",
   "id": "deaa0cfc",
   "metadata": {},
   "source": [
    "# Exercise - Classes and Object 4"
   ]
  },
  {
   "cell_type": "markdown",
   "id": "4b0f1d5d",
   "metadata": {},
   "source": [
    "### Let's inherit Dog class from Animal add name(private) attribute to Dog class and then bark method to print woof woof\n",
    "\n",
    "print name_of_dog make it bark count the legs"
   ]
  },
  {
   "cell_type": "code",
   "execution_count": null,
   "id": "5985cdee",
   "metadata": {},
   "outputs": [],
   "source": [
    "class Animal:\n",
    "    def __init__(self,legs_count):\n",
    "        print(\"Animal object was created\")\n",
    "        self._number_of_legs = legs_count\n",
    "\n",
    "    def runs(self):\n",
    "        print(\"Running started\")\n",
    "\n",
    "    def count_legs(self):\n",
    "        print(f\"It has {self._number_of_legs}\")\n",
    "\n",
    "    def return_legs(self):\n",
    "        return self._number_of_legs\n",
    "        \n",
    "animal= Animal(4)\n",
    "animal.count_legs()\n",
    "print(animal.return_legs())\n",
    "print(animal._number_of_legs)"
   ]
  },
  {
   "cell_type": "code",
   "execution_count": 13,
   "id": "7b2bb9ee",
   "metadata": {},
   "outputs": [
    {
     "name": "stdout",
     "output_type": "stream",
     "text": [
      "Animal object was created\n",
      "Woof Woof\n",
      "It has 4\n"
     ]
    }
   ],
   "source": [
    "class Dog ( Animal ) :\n",
    "    \n",
    "    def __init__ ( self, number_of_legs) :\n",
    "        Animal.__init__ ( self, number_of_legs )\n",
    "        \n",
    "    \n",
    "    def bark ( self ) :\n",
    "        print ( \"Woof Woof\" )\n",
    "    \n",
    "\n",
    "dog = Dog (4)\n",
    "\n",
    "\n",
    "dog.bark ( )\n",
    "\n",
    "\n",
    "dog.count_legs ( )"
   ]
  }
 ],
 "metadata": {
  "kernelspec": {
   "display_name": "Python 3 (ipykernel)",
   "language": "python",
   "name": "python3"
  },
  "language_info": {
   "codemirror_mode": {
    "name": "ipython",
    "version": 3
   },
   "file_extension": ".py",
   "mimetype": "text/x-python",
   "name": "python",
   "nbconvert_exporter": "python",
   "pygments_lexer": "ipython3",
   "version": "3.11.4"
  }
 },
 "nbformat": 4,
 "nbformat_minor": 5
}
