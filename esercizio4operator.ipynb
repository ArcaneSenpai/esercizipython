{
 "cells": [
  {
   "cell_type": "code",
   "execution_count": 1,
   "id": "a1074f08",
   "metadata": {},
   "outputs": [
    {
     "name": "stdout",
     "output_type": "stream",
     "text": [
      "True\n"
     ]
    }
   ],
   "source": [
    "print(not (\"testing\" == \"testing\" and \"Mario\" == \"Cool Guy\"))"
   ]
  },
  {
   "cell_type": "markdown",
   "id": "dff0c6e1",
   "metadata": {},
   "source": [
    "# Insert the appropriate logical operator in order to print True."
   ]
  }
 ],
 "metadata": {
  "kernelspec": {
   "display_name": "Python 3 (ipykernel)",
   "language": "python",
   "name": "python3"
  },
  "language_info": {
   "codemirror_mode": {
    "name": "ipython",
    "version": 3
   },
   "file_extension": ".py",
   "mimetype": "text/x-python",
   "name": "python",
   "nbconvert_exporter": "python",
   "pygments_lexer": "ipython3",
   "version": "3.11.4"
  }
 },
 "nbformat": 4,
 "nbformat_minor": 5
}
