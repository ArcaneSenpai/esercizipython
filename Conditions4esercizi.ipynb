{
 "cells": [
  {
   "cell_type": "code",
   "execution_count": 4,
   "id": "40c1a674",
   "metadata": {},
   "outputs": [
    {
     "name": "stdout",
     "output_type": "stream",
     "text": [
      "The absolute value of Y is greater than or equal to the absolute value of X.\n"
     ]
    }
   ],
   "source": [
    "X = -5\n",
    "Y = 5\n",
    "\n",
    "if abs(X) > abs(Y):\n",
    "    print(f\"The absolute value of X is greater than the absolute value of Y.\")\n",
    "else:\n",
    "    print(f\"The absolute value of Y is greater than or equal to the absolute value of X.\")\n"
   ]
  },
  {
   "cell_type": "markdown",
   "id": "21dbc0ba",
   "metadata": {},
   "source": [
    "# Compare those 2 numbers' absolute values and write X's absolute value greater than Y's absolute value Use abs function to do that\n",
    "eg.\n",
    "abs(-5) -> 5\n",
    "abs function makes all numbers positive"
   ]
  }
 ],
 "metadata": {
  "kernelspec": {
   "display_name": "Python 3 (ipykernel)",
   "language": "python",
   "name": "python3"
  },
  "language_info": {
   "codemirror_mode": {
    "name": "ipython",
    "version": 3
   },
   "file_extension": ".py",
   "mimetype": "text/x-python",
   "name": "python",
   "nbconvert_exporter": "python",
   "pygments_lexer": "ipython3",
   "version": "3.11.4"
  }
 },
 "nbformat": 4,
 "nbformat_minor": 5
}
