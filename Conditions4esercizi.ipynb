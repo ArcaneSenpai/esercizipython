{
 "cells": [
  {
   "cell_type": "code",
   "execution_count": 4,
   "id": "40c1a674",
   "metadata": {},
   "outputs": [
    {
     "name": "stdout",
     "output_type": "stream",
     "text": [
      "The absolute value of Y is greater than or equal to the absolute value of X.\n"
     ]
    }
   ],
   "source": [
    "X = -5\n",
    "Y = 5\n",
    "\n",
    "if abs(X) > abs(Y):\n",
    "    print(f\"The absolute value of X is greater than the absolute value of Y.\")\n",
    "else:\n",
    "    print(f\"The absolute value of Y is greater than or equal to the absolute value of X.\")\n"
   ]
  }
 ],
 "metadata": {
  "kernelspec": {
   "display_name": "Python 3 (ipykernel)",
   "language": "python",
   "name": "python3"
  },
  "language_info": {
   "codemirror_mode": {
    "name": "ipython",
    "version": 3
   },
   "file_extension": ".py",
   "mimetype": "text/x-python",
   "name": "python",
   "nbconvert_exporter": "python",
   "pygments_lexer": "ipython3",
   "version": "3.11.4"
  }
 },
 "nbformat": 4,
 "nbformat_minor": 5
}
