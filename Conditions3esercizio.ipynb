{
 "cells": [
  {
   "cell_type": "code",
   "execution_count": 3,
   "id": "7bfdc6e1",
   "metadata": {},
   "outputs": [
    {
     "name": "stdout",
     "output_type": "stream",
     "text": [
      "X is greater than Y\n"
     ]
    }
   ],
   "source": [
    "x = 5\n",
    "y = 3\n",
    "\n",
    "if x > y:\n",
    "    print(\"X is greater than Y\")\n",
    "elif x < y:\n",
    "    print(\"Y is greater than X\")\n",
    "else:\n",
    "    print(\"X and Y are equal\")\n"
   ]
  },
  {
   "cell_type": "markdown",
   "id": "a0fca960",
   "metadata": {},
   "source": [
    "# Compare those 2 numbers and write X greater than Y But be sure you are making the check for all the conditions"
   ]
  }
 ],
 "metadata": {
  "kernelspec": {
   "display_name": "Python 3 (ipykernel)",
   "language": "python",
   "name": "python3"
  },
  "language_info": {
   "codemirror_mode": {
    "name": "ipython",
    "version": 3
   },
   "file_extension": ".py",
   "mimetype": "text/x-python",
   "name": "python",
   "nbconvert_exporter": "python",
   "pygments_lexer": "ipython3",
   "version": "3.11.4"
  }
 },
 "nbformat": 4,
 "nbformat_minor": 5
}
