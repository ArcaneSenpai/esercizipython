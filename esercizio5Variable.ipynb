{
 "cells": [
  {
   "cell_type": "markdown",
   "id": "6284cb2e",
   "metadata": {},
   "source": [
    "# Esercizio 5 Variable"
   ]
  },
  {
   "cell_type": "markdown",
   "id": "9838aeff",
   "metadata": {},
   "source": [
    "Using string slicing to extract the first and last characters of the user's name. Using string methods to check if the user's name contains any digits. Using the replace() method to replace a specific word in the sentence about the user. Using the split() method to split the sentence about the user into a list of words and print each word on a new line."
   ]
  },
  {
   "cell_type": "code",
   "execution_count": 20,
   "id": "c0dba00c",
   "metadata": {},
   "outputs": [
    {
     "name": "stdout",
     "output_type": "stream",
     "text": [
      "The first character is A and the last character is i.\n"
     ]
    }
   ],
   "source": [
    "name = \"Alessio Rotelli\"\n",
    "first_char = name[0]\n",
    "last_char = name[-1]\n",
    "print(f\"The first character is {first_char} and the last character is {last_char}.\")\n"
   ]
  },
  {
   "cell_type": "code",
   "execution_count": 21,
   "id": "5f1f8b72",
   "metadata": {},
   "outputs": [
    {
     "name": "stdout",
     "output_type": "stream",
     "text": [
      "Contains digits: False\n"
     ]
    }
   ],
   "source": [
    "has_digits = any(char.isdigit() for char in name)\n",
    "print(f\"Contains digits: {has_digits}\")"
   ]
  },
  {
   "cell_type": "code",
   "execution_count": 22,
   "id": "49a28eea",
   "metadata": {},
   "outputs": [
    {
     "name": "stdout",
     "output_type": "stream",
     "text": [
      "Alessio Rotelli is a data scientist.\n"
     ]
    }
   ],
   "source": [
    "sentence = f\"{name} is a software engineer.\"\n",
    "new_sentence = sentence.replace(\"software engineer\", \"data scientist\")\n",
    "print(new_sentence)"
   ]
  },
  {
   "cell_type": "code",
   "execution_count": 24,
   "id": "3ca7ba9d",
   "metadata": {},
   "outputs": [
    {
     "name": "stdout",
     "output_type": "stream",
     "text": [
      "road\n",
      "to\n",
      "python\n"
     ]
    }
   ],
   "source": [
    "sentence = \"road to python\"\n",
    "words = sentence.split()\n",
    "for word in words:\n",
    "    print(word)\n"
   ]
  }
 ],
 "metadata": {
  "kernelspec": {
   "display_name": "Python 3 (ipykernel)",
   "language": "python",
   "name": "python3"
  },
  "language_info": {
   "codemirror_mode": {
    "name": "ipython",
    "version": 3
   },
   "file_extension": ".py",
   "mimetype": "text/x-python",
   "name": "python",
   "nbconvert_exporter": "python",
   "pygments_lexer": "ipython3",
   "version": "3.11.4"
  }
 },
 "nbformat": 4,
 "nbformat_minor": 5
}
