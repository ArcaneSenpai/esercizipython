{
 "cells": [
  {
   "cell_type": "code",
   "execution_count": 2,
   "id": "61b5cebd",
   "metadata": {},
   "outputs": [
    {
     "name": "stdout",
     "output_type": "stream",
     "text": [
      "number2 equals to number1\n"
     ]
    }
   ],
   "source": [
    "number1 = 66\n",
    "number2 = 66\n",
    "\n",
    "if number1 > number2:\n",
    "    print(\"number1 is greater than number2\")\n",
    "elif number2 > number1:\n",
    "    print(\"number2 is greater than number1\")\n",
    "else:\n",
    "    print(\"number2 equals to number1\")\n"
   ]
  },
  {
   "cell_type": "markdown",
   "id": "69f44639",
   "metadata": {},
   "source": [
    "# check if number1 is greater than number 2 and print number1 is greater than number2 then check and if number 2 is greater than number 1 and print number2 is greater than number1 finally at the end if both conditions incorrect print number2 equals to number1\n",
    "\n",
    "number1 = 66 number2 = 66"
   ]
  }
 ],
 "metadata": {
  "kernelspec": {
   "display_name": "Python 3 (ipykernel)",
   "language": "python",
   "name": "python3"
  },
  "language_info": {
   "codemirror_mode": {
    "name": "ipython",
    "version": 3
   },
   "file_extension": ".py",
   "mimetype": "text/x-python",
   "name": "python",
   "nbconvert_exporter": "python",
   "pygments_lexer": "ipython3",
   "version": "3.11.4"
  }
 },
 "nbformat": 4,
 "nbformat_minor": 5
}
