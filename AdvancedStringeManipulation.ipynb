{
 "cells": [
  {
   "cell_type": "code",
   "execution_count": 21,
   "id": "9903f815",
   "metadata": {},
   "outputs": [
    {
     "name": "stdout",
     "output_type": "stream",
     "text": [
      "Extracted word: is\n",
      "Uppercase: THIS IS A QUOTE.\n",
      "Lowercase: this is a quote.\n",
      "Title case: This Is A Quote.\n",
      "Replaced word: This is a sentence.\n",
      "Stripped character: This is a quote\n",
      "Formatted string: Alessio said, 'This is a quote.'\n"
     ]
    }
   ],
   "source": [
    "quote = \"This is a quote.\"\n",
    "word = quote[5:7]\n",
    "print(f\"Extracted word: {word}\")\n",
    "\n",
    "upper_quote = quote.upper()\n",
    "print(f\"Uppercase: {upper_quote}\")\n",
    "\n",
    "lower_quote = quote.lower()\n",
    "print(f\"Lowercase: {lower_quote}\")\n",
    "\n",
    "title_quote = quote.title()\n",
    "print(f\"Title case: {title_quote}\")\n",
    "\n",
    "new_quote = quote.replace(\"quote\", \"sentence\")\n",
    "print(f\"Replaced word: {new_quote}\")\n",
    "\n",
    "stripped_quote = quote.strip(\".\")\n",
    "print(f\"Stripped character: {stripped_quote}\")\n",
    "\n",
    "name = \"Alessio\"\n",
    "formatted_quote = f\"{name} said, '{quote}'\"\n",
    "print(f\"Formatted string: {formatted_quote}\")\n"
   ]
  }
 ],
 "metadata": {
  "kernelspec": {
   "display_name": "Python 3 (ipykernel)",
   "language": "python",
   "name": "python3"
  },
  "language_info": {
   "codemirror_mode": {
    "name": "ipython",
    "version": 3
   },
   "file_extension": ".py",
   "mimetype": "text/x-python",
   "name": "python",
   "nbconvert_exporter": "python",
   "pygments_lexer": "ipython3",
   "version": "3.11.4"
  }
 },
 "nbformat": 4,
 "nbformat_minor": 5
}
